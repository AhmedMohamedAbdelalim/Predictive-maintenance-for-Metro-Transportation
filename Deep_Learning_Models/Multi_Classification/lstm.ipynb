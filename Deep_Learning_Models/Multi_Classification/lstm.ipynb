{
 "cells": [
  {
   "cell_type": "code",
   "execution_count": 1,
   "metadata": {},
   "outputs": [
    {
     "name": "stdout",
     "output_type": "stream",
     "text": [
      "<class 'pandas.core.frame.DataFrame'>\n",
      "Int64Index: 42263771 entries, 0 to 381750\n",
      "Data columns (total 21 columns):\n",
      " #   Column           Dtype  \n",
      "---  ------           -----  \n",
      " 0   TP2              float64\n",
      " 1   TP3              float64\n",
      " 2   H1               float64\n",
      " 3   DV_pressure      float64\n",
      " 4   Reservoirs       float64\n",
      " 5   Oil_temperature  float64\n",
      " 6   Flowmeter        float64\n",
      " 7   Motor_current    float64\n",
      " 8   COMP             int64  \n",
      " 9   DV_eletric       int64  \n",
      " 10  Towers           int64  \n",
      " 11  MPG              int64  \n",
      " 12  LPS              int64  \n",
      " 13  Pressure_switch  int64  \n",
      " 14  Oil_level        int64  \n",
      " 15  Caudal_impulses  int64  \n",
      " 16  gpsLong          float64\n",
      " 17  gpsLat           float64\n",
      " 18  gpsSpeed         int64  \n",
      " 19  gpsQuality       int64  \n",
      " 20  status           int64  \n",
      "dtypes: float64(10), int64(11)\n",
      "memory usage: 6.9 GB\n",
      "None\n",
      "Number of rows4: 42263771\n",
      "Number of columns4: 21\n"
     ]
    }
   ],
   "source": [
    "import dask.dataframe as dd\n",
    "\n",
    "# Read CSV using Dask\n",
    "data = dd.read_csv(\"E:/semester8/Grad2/dataset_after_oversampling/multi_classification.csv\")\n",
    "\n",
    "# Use .compute() to execute operations and get the information\n",
    "data_info = data.compute().info()\n",
    "print(data_info)\n",
    "\n",
    "# Get the number of rows and columns using .compute()\n",
    "num_rows, num_columns = data.compute().shape\n",
    "print(\"Number of rows4:\", num_rows)\n",
    "print(\"Number of columns4:\", num_columns)"
   ]
  },
  {
   "cell_type": "code",
   "execution_count": 2,
   "metadata": {},
   "outputs": [
    {
     "name": "stdout",
     "output_type": "stream",
     "text": [
      "(42263771, 21)\n"
     ]
    }
   ],
   "source": [
    "pandas_data = data.compute()\n",
    "print(pandas_data.shape)"
   ]
  },
  {
   "cell_type": "code",
   "execution_count": 3,
   "metadata": {},
   "outputs": [],
   "source": [
    "import pandas as pd\n",
    "import numpy as np\n",
    "import matplotlib.pyplot as plt\n",
    "\n",
    "from sklearn.metrics import classification_report, confusion_matrix\n",
    "from sklearn.metrics import ConfusionMatrixDisplay, accuracy_score\n",
    "from sklearn.model_selection import train_test_split"
   ]
  },
  {
   "cell_type": "code",
   "execution_count": 4,
   "metadata": {},
   "outputs": [
    {
     "name": "stdout",
     "output_type": "stream",
     "text": [
      "             TP2       TP3        H1  DV_pressure  Reservoirs  \\\n",
      "0      -0.012000  9.758000  9.760000       -0.028    1.576000   \n",
      "1      -0.012000  9.760000  9.760000       -0.028    1.578000   \n",
      "2      -0.010000  9.760000  9.760000       -0.028    1.578000   \n",
      "3      -0.012000  9.756000  9.756000       -0.030    1.576000   \n",
      "4      -0.012000  9.756000  9.756000       -0.030    1.578000   \n",
      "...          ...       ...       ...          ...         ...   \n",
      "381746 -0.008495  8.717542  8.385579       -0.034    1.468000   \n",
      "381747 -0.009825  8.705572  8.362795       -0.034    1.467825   \n",
      "381748 -0.009663  8.705687  8.368437       -0.034    1.467663   \n",
      "381749 -0.009996  8.704039  8.360069       -0.034    1.467996   \n",
      "381750 -0.009588  8.706059  8.370295       -0.034    1.467588   \n",
      "\n",
      "        Oil_temperature  Flowmeter  Motor_current  COMP  DV_eletric  Towers  \\\n",
      "0             63.350000  19.049625         3.9550     1           0       1   \n",
      "1             63.250000  19.049625         4.0275     1           0       1   \n",
      "2             63.325000  19.040281         3.9450     1           0       1   \n",
      "3             63.200000  19.040281         3.9300     1           0       1   \n",
      "4             63.150000  19.049625         3.9950     1           0       1   \n",
      "...                 ...        ...            ...   ...         ...     ...   \n",
      "381746        67.206192  19.255188         0.0075     1           0       1   \n",
      "381747        67.222817  19.255188         0.0075     1           0       1   \n",
      "381748        67.225000  19.255188         0.0075     1           0       1   \n",
      "381749        67.224946  19.255188         0.0075     1           0       1   \n",
      "381750        67.225000  19.255188         0.0075     1           0       1   \n",
      "\n",
      "        MPG  LPS  Pressure_switch  Oil_level  Caudal_impulses  gpsLong  \\\n",
      "0         1    0                0          0                0 -8.65934   \n",
      "1         1    0                0          0                0 -8.65934   \n",
      "2         1    0                0          0                0 -8.65934   \n",
      "3         1    0                0          0                0 -8.65934   \n",
      "4         1    0                0          0                0 -8.65934   \n",
      "...     ...  ...              ...        ...              ...      ...   \n",
      "381746    1    0                0          0                0  0.00000   \n",
      "381747    1    0                0          0                0  0.00000   \n",
      "381748    1    0                0          0                0  0.00000   \n",
      "381749    1    0                0          0                0  0.00000   \n",
      "381750    1    0                0          0                0  0.00000   \n",
      "\n",
      "         gpsLat  gpsSpeed  gpsQuality  \n",
      "0       41.2124         0           1  \n",
      "1       41.2124         0           1  \n",
      "2       41.2124         0           1  \n",
      "3       41.2124         0           1  \n",
      "4       41.2124         0           1  \n",
      "...         ...       ...         ...  \n",
      "381746   0.0000         0           0  \n",
      "381747   0.0000         0           0  \n",
      "381748   0.0000         0           0  \n",
      "381749   0.0000         0           0  \n",
      "381750   0.0000         0           0  \n",
      "\n",
      "[42263771 rows x 20 columns]\n",
      "0         0\n",
      "1         0\n",
      "2         0\n",
      "3         0\n",
      "4         0\n",
      "         ..\n",
      "381746    3\n",
      "381747    3\n",
      "381748    3\n",
      "381749    3\n",
      "381750    3\n",
      "Name: status, Length: 42263771, dtype: int64\n"
     ]
    }
   ],
   "source": [
    "label_column = 'status'\n",
    "X = pandas_data.drop(label_column, axis=1)\n",
    "y = pandas_data[label_column]\n",
    "\n",
    "print(X)\n",
    "print(y)"
   ]
  },
  {
   "cell_type": "code",
   "execution_count": 5,
   "metadata": {},
   "outputs": [],
   "source": [
    "from sklearn.preprocessing import StandardScaler\n",
    "\n",
    "# Normalize the features using StandardScaler\n",
    "scaler = StandardScaler()\n",
    "X_scaled = scaler.fit_transform(X)\n"
   ]
  },
  {
   "cell_type": "code",
   "execution_count": 6,
   "metadata": {},
   "outputs": [
    {
     "name": "stdout",
     "output_type": "stream",
     "text": [
      "WARNING:tensorflow:From c:\\Users\\ahmed mohamed\\AppData\\Local\\Programs\\Python\\Python310\\lib\\site-packages\\keras\\src\\losses.py:2976: The name tf.losses.sparse_softmax_cross_entropy is deprecated. Please use tf.compat.v1.losses.sparse_softmax_cross_entropy instead.\n",
      "\n"
     ]
    }
   ],
   "source": [
    "from keras.utils import to_categorical\n",
    "from sklearn.model_selection import train_test_split\n",
    "\n",
    "# Assuming X_scaled, y are already defined\n",
    "\n",
    "# Split the data into training and testing sets\n",
    "X_train, X_test, y_train, y_test = train_test_split(X_scaled, y, test_size=0.3, random_state=42)\n",
    "\n",
    "# Convert target labels to one-hot encoded format\n",
    "num_classes = len(np.unique(y))\n",
    "y_one_hot_train = to_categorical(y_train, num_classes=num_classes)\n",
    "y_one_hot_test = to_categorical(y_test, num_classes=num_classes)\n"
   ]
  },
  {
   "cell_type": "code",
   "execution_count": 7,
   "metadata": {},
   "outputs": [
    {
     "name": "stdout",
     "output_type": "stream",
     "text": [
      "(29584639, 1, 20)\n",
      "(12679132, 1, 20)\n"
     ]
    }
   ],
   "source": [
    "\n",
    "# LSTM expects input data in a specific format (samples, time steps, features)\n",
    "# Reshape the data for LSTM\n",
    "X_train_reshaped = np.array(X_train).reshape((X_train.shape[0], 1, X_train.shape[1]))\n",
    "X_test_reshaped = np.array(X_test).reshape((X_test.shape[0], 1, X_test.shape[1]))\n",
    "print(X_train_reshaped.shape)\n",
    "print(X_test_reshaped.shape)"
   ]
  },
  {
   "cell_type": "code",
   "execution_count": 8,
   "metadata": {},
   "outputs": [
    {
     "name": "stdout",
     "output_type": "stream",
     "text": [
      "WARNING:tensorflow:From c:\\Users\\ahmed mohamed\\AppData\\Local\\Programs\\Python\\Python310\\lib\\site-packages\\keras\\src\\backend.py:873: The name tf.get_default_graph is deprecated. Please use tf.compat.v1.get_default_graph instead.\n",
      "\n",
      "WARNING:tensorflow:From c:\\Users\\ahmed mohamed\\AppData\\Local\\Programs\\Python\\Python310\\lib\\site-packages\\keras\\src\\optimizers\\__init__.py:309: The name tf.train.Optimizer is deprecated. Please use tf.compat.v1.train.Optimizer instead.\n",
      "\n",
      "Epoch 1/100\n",
      "WARNING:tensorflow:From c:\\Users\\ahmed mohamed\\AppData\\Local\\Programs\\Python\\Python310\\lib\\site-packages\\keras\\src\\utils\\tf_utils.py:492: The name tf.ragged.RaggedTensorValue is deprecated. Please use tf.compat.v1.ragged.RaggedTensorValue instead.\n",
      "\n",
      "WARNING:tensorflow:From c:\\Users\\ahmed mohamed\\AppData\\Local\\Programs\\Python\\Python310\\lib\\site-packages\\keras\\src\\engine\\base_layer_utils.py:384: The name tf.executing_eagerly_outside_functions is deprecated. Please use tf.compat.v1.executing_eagerly_outside_functions instead.\n",
      "\n",
      "924520/924520 [==============================] - 2413s 3ms/step - loss: 0.2032 - accuracy: 0.9092 - val_loss: 0.1845 - val_accuracy: 0.9174\n",
      "Epoch 2/100\n",
      "924520/924520 [==============================] - 2263s 2ms/step - loss: 0.1864 - accuracy: 0.9174 - val_loss: 0.1787 - val_accuracy: 0.9209\n",
      "Epoch 3/100\n",
      "924520/924520 [==============================] - 2317s 3ms/step - loss: 0.1814 - accuracy: 0.9202 - val_loss: 0.1737 - val_accuracy: 0.9240\n",
      "Epoch 4/100\n",
      "924520/924520 [==============================] - 2315s 3ms/step - loss: 0.1783 - accuracy: 0.9220 - val_loss: 0.1723 - val_accuracy: 0.9237\n",
      "Epoch 5/100\n",
      "924520/924520 [==============================] - 2320s 3ms/step - loss: 0.1761 - accuracy: 0.9233 - val_loss: 0.1692 - val_accuracy: 0.9258\n",
      "Epoch 6/100\n",
      "924520/924520 [==============================] - 3585s 4ms/step - loss: 0.1744 - accuracy: 0.9243 - val_loss: 0.1687 - val_accuracy: 0.9257\n",
      "Epoch 7/100\n",
      "924520/924520 [==============================] - 2324s 3ms/step - loss: 0.1730 - accuracy: 0.9252 - val_loss: 0.1659 - val_accuracy: 0.9279\n",
      "Epoch 8/100\n",
      "924520/924520 [==============================] - 3288s 4ms/step - loss: 0.1717 - accuracy: 0.9261 - val_loss: 0.1646 - val_accuracy: 0.9295\n",
      "Epoch 9/100\n",
      "924520/924520 [==============================] - 3227s 3ms/step - loss: 0.1705 - accuracy: 0.9268 - val_loss: 0.1645 - val_accuracy: 0.9297\n",
      "Epoch 10/100\n",
      "924520/924520 [==============================] - 2248s 2ms/step - loss: 0.1694 - accuracy: 0.9273 - val_loss: 0.1619 - val_accuracy: 0.9301\n",
      "Epoch 11/100\n",
      "924520/924520 [==============================] - 2291s 2ms/step - loss: 0.1683 - accuracy: 0.9279 - val_loss: 0.1608 - val_accuracy: 0.9307\n",
      "Epoch 12/100\n",
      "924520/924520 [==============================] - 2256s 2ms/step - loss: 0.1674 - accuracy: 0.9284 - val_loss: 0.1602 - val_accuracy: 0.9313\n",
      "Epoch 13/100\n",
      "924520/924520 [==============================] - 2275s 2ms/step - loss: 0.1666 - accuracy: 0.9287 - val_loss: 0.1595 - val_accuracy: 0.9322\n",
      "Epoch 14/100\n",
      "924520/924520 [==============================] - 2258s 2ms/step - loss: 0.1659 - accuracy: 0.9290 - val_loss: 0.1593 - val_accuracy: 0.9324\n",
      "Epoch 15/100\n",
      "924520/924520 [==============================] - 2260s 2ms/step - loss: 0.1653 - accuracy: 0.9293 - val_loss: 0.1582 - val_accuracy: 0.9319\n",
      "Epoch 16/100\n",
      "924520/924520 [==============================] - 2278s 2ms/step - loss: 0.1647 - accuracy: 0.9297 - val_loss: 0.1578 - val_accuracy: 0.9321\n",
      "Epoch 17/100\n",
      "924520/924520 [==============================] - 2261s 2ms/step - loss: 0.1642 - accuracy: 0.9299 - val_loss: 0.1558 - val_accuracy: 0.9335\n",
      "Epoch 18/100\n",
      "924520/924520 [==============================] - 2259s 2ms/step - loss: 0.1637 - accuracy: 0.9301 - val_loss: 0.1562 - val_accuracy: 0.9334\n",
      "Epoch 19/100\n",
      "924520/924520 [==============================] - 2263s 2ms/step - loss: 0.1632 - accuracy: 0.9303 - val_loss: 0.1553 - val_accuracy: 0.9333\n",
      "Epoch 20/100\n",
      "924520/924520 [==============================] - 2277s 2ms/step - loss: 0.1627 - accuracy: 0.9305 - val_loss: 0.1546 - val_accuracy: 0.9338\n",
      "Epoch 21/100\n",
      "924520/924520 [==============================] - 2509s 3ms/step - loss: 0.1624 - accuracy: 0.9307 - val_loss: 0.1540 - val_accuracy: 0.9340\n",
      "Epoch 22/100\n",
      "924520/924520 [==============================] - 3534s 4ms/step - loss: 0.1620 - accuracy: 0.9309 - val_loss: 0.1551 - val_accuracy: 0.9343\n",
      "Epoch 23/100\n",
      "924520/924520 [==============================] - 2436s 3ms/step - loss: 0.1616 - accuracy: 0.9310 - val_loss: 0.1526 - val_accuracy: 0.9348\n",
      "Epoch 24/100\n",
      "924520/924520 [==============================] - 2278s 2ms/step - loss: 0.1612 - accuracy: 0.9312 - val_loss: 0.1527 - val_accuracy: 0.9353\n",
      "Epoch 25/100\n",
      "924520/924520 [==============================] - 4001s 4ms/step - loss: 0.1608 - accuracy: 0.9314 - val_loss: 0.1522 - val_accuracy: 0.9344\n",
      "Epoch 26/100\n",
      "924520/924520 [==============================] - 2461s 3ms/step - loss: 0.1605 - accuracy: 0.9315 - val_loss: 0.1506 - val_accuracy: 0.9353\n",
      "Epoch 27/100\n",
      "924520/924520 [==============================] - 3753s 4ms/step - loss: 0.1601 - accuracy: 0.9317 - val_loss: 0.1519 - val_accuracy: 0.9339\n",
      "Epoch 28/100\n",
      "924520/924520 [==============================] - 2281s 2ms/step - loss: 0.1596 - accuracy: 0.9318 - val_loss: 0.1511 - val_accuracy: 0.9351\n",
      "Epoch 29/100\n",
      "924520/924520 [==============================] - 2283s 2ms/step - loss: 0.1590 - accuracy: 0.9319 - val_loss: 0.1508 - val_accuracy: 0.9347\n"
     ]
    },
    {
     "name": "stderr",
     "output_type": "stream",
     "text": [
      "c:\\Users\\ahmed mohamed\\AppData\\Local\\Programs\\Python\\Python310\\lib\\site-packages\\keras\\src\\engine\\training.py:3103: UserWarning: You are saving your model as an HDF5 file via `model.save()`. This file format is considered legacy. We recommend using instead the native Keras format, e.g. `model.save('my_model.keras')`.\n",
      "  saving_api.save_model(\n"
     ]
    },
    {
     "name": "stdout",
     "output_type": "stream",
     "text": [
      "396223/396223 [==============================] - 482s 1ms/step - loss: 0.1506 - accuracy: 0.9353\n",
      "Test Accuracy: 93.53%\n"
     ]
    }
   ],
   "source": [
    "from keras.models import Sequential\n",
    "from keras.layers import LSTM, Dense, Dropout\n",
    "from keras.models import load_model\n",
    "\n",
    "from keras.layers import LSTM\n",
    "from keras.callbacks import EarlyStopping\n",
    "\n",
    "# Build the LSTM model\n",
    "model = Sequential()\n",
    "\n",
    "\n",
    "# First LSTM layer\n",
    "model.add(LSTM(units=100, input_shape=(X_train_reshaped.shape[1], X_train_reshaped.shape[2]), return_sequences=False))\n",
    "\n",
    "model.add(Dropout(0.2))\n",
    "\n",
    "\n",
    "# Output layer for multi-class classification\n",
    "model.add(Dense(4, activation='softmax'))  # 4 classes, so 4 units and softmax activation\n",
    "\n",
    "# Compile the model\n",
    "model.compile(loss='categorical_crossentropy', optimizer='adam', metrics=['accuracy'])\n",
    "\n",
    "# Define Early Stopping\n",
    "early_stopping = EarlyStopping(monitor='val_loss', patience=3, restore_best_weights=True)\n",
    "\n",
    "# Train the model with early stopping\n",
    "history = model.fit(\n",
    "    X_train_reshaped, y_one_hot_train,  # using one-hot encoded target labels\n",
    "    epochs=100,\n",
    "    batch_size=32,\n",
    "    validation_data=(X_test_reshaped, y_one_hot_test),  # using one-hot encoded target labels\n",
    "    callbacks=[early_stopping],\n",
    "    verbose=1\n",
    ")\n",
    "\n",
    "# Save the model\n",
    "model.save(\"LSTM_multi.h5\")\n",
    "\n",
    "# Load the model\n",
    "loaded_model = load_model(\"LSTM_multi.h5\")\n",
    "\n",
    "# Evaluate the loaded model\n",
    "loss, accuracy = loaded_model.evaluate(X_test_reshaped, y_one_hot_test)\n",
    "print(f\"Test Accuracy: {accuracy * 100:.2f}%\")"
   ]
  },
  {
   "cell_type": "code",
   "execution_count": 9,
   "metadata": {},
   "outputs": [
    {
     "name": "stdout",
     "output_type": "stream",
     "text": [
      "Model: \"sequential\"\n",
      "_________________________________________________________________\n",
      " Layer (type)                Output Shape              Param #   \n",
      "=================================================================\n",
      " lstm (LSTM)                 (None, 100)               48400     \n",
      "                                                                 \n",
      " dropout (Dropout)           (None, 100)               0         \n",
      "                                                                 \n",
      " dense (Dense)               (None, 4)                 404       \n",
      "                                                                 \n",
      "=================================================================\n",
      "Total params: 48804 (190.64 KB)\n",
      "Trainable params: 48804 (190.64 KB)\n",
      "Non-trainable params: 0 (0.00 Byte)\n",
      "_________________________________________________________________\n",
      "None\n"
     ]
    }
   ],
   "source": [
    "# Print the summary of the model\n",
    "print(model.summary())"
   ]
  }
 ],
 "metadata": {
  "kernelspec": {
   "display_name": "Python 3",
   "language": "python",
   "name": "python3"
  },
  "language_info": {
   "codemirror_mode": {
    "name": "ipython",
    "version": 3
   },
   "file_extension": ".py",
   "mimetype": "text/x-python",
   "name": "python",
   "nbconvert_exporter": "python",
   "pygments_lexer": "ipython3",
   "version": "3.10.8"
  }
 },
 "nbformat": 4,
 "nbformat_minor": 2
}

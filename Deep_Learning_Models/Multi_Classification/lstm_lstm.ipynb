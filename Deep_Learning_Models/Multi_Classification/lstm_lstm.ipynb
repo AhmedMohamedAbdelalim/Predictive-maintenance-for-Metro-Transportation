{
 "cells": [
  {
   "cell_type": "code",
   "execution_count": 1,
   "metadata": {},
   "outputs": [
    {
     "name": "stdout",
     "output_type": "stream",
     "text": [
      "<class 'pandas.core.frame.DataFrame'>\n",
      "Int64Index: 42263771 entries, 0 to 381750\n",
      "Data columns (total 21 columns):\n",
      " #   Column           Dtype  \n",
      "---  ------           -----  \n",
      " 0   TP2              float64\n",
      " 1   TP3              float64\n",
      " 2   H1               float64\n",
      " 3   DV_pressure      float64\n",
      " 4   Reservoirs       float64\n",
      " 5   Oil_temperature  float64\n",
      " 6   Flowmeter        float64\n",
      " 7   Motor_current    float64\n",
      " 8   COMP             int64  \n",
      " 9   DV_eletric       int64  \n",
      " 10  Towers           int64  \n",
      " 11  MPG              int64  \n",
      " 12  LPS              int64  \n",
      " 13  Pressure_switch  int64  \n",
      " 14  Oil_level        int64  \n",
      " 15  Caudal_impulses  int64  \n",
      " 16  gpsLong          float64\n",
      " 17  gpsLat           float64\n",
      " 18  gpsSpeed         int64  \n",
      " 19  gpsQuality       int64  \n",
      " 20  status           int64  \n",
      "dtypes: float64(10), int64(11)\n",
      "memory usage: 6.9 GB\n",
      "None\n",
      "Number of rows4: 42263771\n",
      "Number of columns4: 21\n"
     ]
    }
   ],
   "source": [
    "import dask.dataframe as dd\n",
    "\n",
    "# Read CSV using Dask\n",
    "data = dd.read_csv(\"E:/semester8/Grad2/dataset_after_oversampling/multi_classification.csv\")\n",
    "\n",
    "# Use .compute() to execute operations and get the information\n",
    "data_info = data.compute().info()\n",
    "print(data_info)\n",
    "\n",
    "# Get the number of rows and columns using .compute()\n",
    "num_rows, num_columns = data.compute().shape\n",
    "print(\"Number of rows4:\", num_rows)\n",
    "print(\"Number of columns4:\", num_columns)"
   ]
  },
  {
   "cell_type": "code",
   "execution_count": 2,
   "metadata": {},
   "outputs": [
    {
     "name": "stdout",
     "output_type": "stream",
     "text": [
      "(42263771, 21)\n"
     ]
    }
   ],
   "source": [
    "pandas_data = data.compute()\n",
    "print(pandas_data.shape)"
   ]
  },
  {
   "cell_type": "code",
   "execution_count": 3,
   "metadata": {},
   "outputs": [],
   "source": [
    "import pandas as pd\n",
    "import numpy as np\n",
    "import matplotlib.pyplot as plt\n",
    "\n",
    "from sklearn.metrics import classification_report, confusion_matrix\n",
    "from sklearn.metrics import ConfusionMatrixDisplay, accuracy_score\n",
    "from sklearn.model_selection import train_test_split"
   ]
  },
  {
   "cell_type": "code",
   "execution_count": 4,
   "metadata": {},
   "outputs": [
    {
     "name": "stdout",
     "output_type": "stream",
     "text": [
      "             TP2       TP3        H1  DV_pressure  Reservoirs  \\\n",
      "0      -0.012000  9.758000  9.760000       -0.028    1.576000   \n",
      "1      -0.012000  9.760000  9.760000       -0.028    1.578000   \n",
      "2      -0.010000  9.760000  9.760000       -0.028    1.578000   \n",
      "3      -0.012000  9.756000  9.756000       -0.030    1.576000   \n",
      "4      -0.012000  9.756000  9.756000       -0.030    1.578000   \n",
      "...          ...       ...       ...          ...         ...   \n",
      "381746 -0.008495  8.717542  8.385579       -0.034    1.468000   \n",
      "381747 -0.009825  8.705572  8.362795       -0.034    1.467825   \n",
      "381748 -0.009663  8.705687  8.368437       -0.034    1.467663   \n",
      "381749 -0.009996  8.704039  8.360069       -0.034    1.467996   \n",
      "381750 -0.009588  8.706059  8.370295       -0.034    1.467588   \n",
      "\n",
      "        Oil_temperature  Flowmeter  Motor_current  COMP  DV_eletric  Towers  \\\n",
      "0             63.350000  19.049625         3.9550     1           0       1   \n",
      "1             63.250000  19.049625         4.0275     1           0       1   \n",
      "2             63.325000  19.040281         3.9450     1           0       1   \n",
      "3             63.200000  19.040281         3.9300     1           0       1   \n",
      "4             63.150000  19.049625         3.9950     1           0       1   \n",
      "...                 ...        ...            ...   ...         ...     ...   \n",
      "381746        67.206192  19.255188         0.0075     1           0       1   \n",
      "381747        67.222817  19.255188         0.0075     1           0       1   \n",
      "381748        67.225000  19.255188         0.0075     1           0       1   \n",
      "381749        67.224946  19.255188         0.0075     1           0       1   \n",
      "381750        67.225000  19.255188         0.0075     1           0       1   \n",
      "\n",
      "        MPG  LPS  Pressure_switch  Oil_level  Caudal_impulses  gpsLong  \\\n",
      "0         1    0                0          0                0 -8.65934   \n",
      "1         1    0                0          0                0 -8.65934   \n",
      "2         1    0                0          0                0 -8.65934   \n",
      "3         1    0                0          0                0 -8.65934   \n",
      "4         1    0                0          0                0 -8.65934   \n",
      "...     ...  ...              ...        ...              ...      ...   \n",
      "381746    1    0                0          0                0  0.00000   \n",
      "381747    1    0                0          0                0  0.00000   \n",
      "381748    1    0                0          0                0  0.00000   \n",
      "381749    1    0                0          0                0  0.00000   \n",
      "381750    1    0                0          0                0  0.00000   \n",
      "\n",
      "         gpsLat  gpsSpeed  gpsQuality  \n",
      "0       41.2124         0           1  \n",
      "1       41.2124         0           1  \n",
      "2       41.2124         0           1  \n",
      "3       41.2124         0           1  \n",
      "4       41.2124         0           1  \n",
      "...         ...       ...         ...  \n",
      "381746   0.0000         0           0  \n",
      "381747   0.0000         0           0  \n",
      "381748   0.0000         0           0  \n",
      "381749   0.0000         0           0  \n",
      "381750   0.0000         0           0  \n",
      "\n",
      "[42263771 rows x 20 columns]\n",
      "0         0\n",
      "1         0\n",
      "2         0\n",
      "3         0\n",
      "4         0\n",
      "         ..\n",
      "381746    3\n",
      "381747    3\n",
      "381748    3\n",
      "381749    3\n",
      "381750    3\n",
      "Name: status, Length: 42263771, dtype: int64\n"
     ]
    }
   ],
   "source": [
    "label_column = 'status'\n",
    "X = pandas_data.drop(label_column, axis=1)\n",
    "y = pandas_data[label_column]\n",
    "\n",
    "print(X)\n",
    "print(y)"
   ]
  },
  {
   "cell_type": "code",
   "execution_count": 5,
   "metadata": {},
   "outputs": [],
   "source": [
    "from sklearn.preprocessing import StandardScaler\n",
    "\n",
    "# Normalize the features using StandardScaler\n",
    "scaler = StandardScaler()\n",
    "X_scaled = scaler.fit_transform(X)\n"
   ]
  },
  {
   "cell_type": "code",
   "execution_count": 10,
   "metadata": {},
   "outputs": [],
   "source": [
    "from keras.utils import to_categorical\n",
    "\n",
    "# Convert target labels to one-hot encoded format\n",
    "num_classes = len(np.unique(y))\n",
    "y_one_hot_train = to_categorical(y_train, num_classes=num_classes)\n",
    "y_one_hot_test = to_categorical(y_test, num_classes=num_classes)\n",
    "\n",
    "# Split the data into training and testing sets\n",
    "X_train, X_test, y_train, y_test = train_test_split(X_scaled, y, test_size=0.3, random_state=42)\n"
   ]
  },
  {
   "cell_type": "code",
   "execution_count": 11,
   "metadata": {},
   "outputs": [],
   "source": [
    "\n",
    "# LSTM expects input data in a specific format (samples, time steps, features)\n",
    "# Reshape the data for LSTM\n",
    "X_train_reshaped = np.array(X_train).reshape((X_train.shape[0], 1, X_train.shape[1]))\n",
    "X_test_reshaped = np.array(X_test).reshape((X_test.shape[0], 1, X_test.shape[1]))\n"
   ]
  },
  {
   "cell_type": "code",
   "execution_count": 12,
   "metadata": {},
   "outputs": [
    {
     "name": "stdout",
     "output_type": "stream",
     "text": [
      "(29584639, 1, 20)\n",
      "(12679132, 1, 20)\n"
     ]
    }
   ],
   "source": [
    "print(X_train_reshaped.shape)\n",
    "print(X_test_reshaped.shape)"
   ]
  },
  {
   "cell_type": "code",
   "execution_count": 14,
   "metadata": {},
   "outputs": [
    {
     "name": "stdout",
     "output_type": "stream",
     "text": [
      "Epoch 1/100\n",
      "WARNING:tensorflow:From c:\\Users\\ahmed mohamed\\AppData\\Local\\Programs\\Python\\Python310\\lib\\site-packages\\keras\\src\\utils\\tf_utils.py:492: The name tf.ragged.RaggedTensorValue is deprecated. Please use tf.compat.v1.ragged.RaggedTensorValue instead.\n",
      "\n",
      "WARNING:tensorflow:From c:\\Users\\ahmed mohamed\\AppData\\Local\\Programs\\Python\\Python310\\lib\\site-packages\\keras\\src\\engine\\base_layer_utils.py:384: The name tf.executing_eagerly_outside_functions is deprecated. Please use tf.compat.v1.executing_eagerly_outside_functions instead.\n",
      "\n",
      "924520/924520 [==============================] - 4991s 5ms/step - loss: 0.1807 - accuracy: 0.9211 - val_loss: 0.1563 - val_accuracy: 0.9324\n",
      "Epoch 2/100\n",
      "924520/924520 [==============================] - 3460s 4ms/step - loss: 0.1578 - accuracy: 0.9317 - val_loss: 0.1373 - val_accuracy: 0.9386\n",
      "Epoch 3/100\n",
      "924520/924520 [==============================] - 3167s 3ms/step - loss: 0.1493 - accuracy: 0.9351 - val_loss: 0.1419 - val_accuracy: 0.9390\n",
      "Epoch 4/100\n",
      "924520/924520 [==============================] - 4153s 4ms/step - loss: 0.1462 - accuracy: 0.9367 - val_loss: 0.1541 - val_accuracy: 0.9394\n",
      "Epoch 5/100\n",
      "924520/924520 [==============================] - 3776s 4ms/step - loss: 0.1441 - accuracy: 0.9379 - val_loss: 0.1385 - val_accuracy: 0.9415\n"
     ]
    },
    {
     "name": "stderr",
     "output_type": "stream",
     "text": [
      "c:\\Users\\ahmed mohamed\\AppData\\Local\\Programs\\Python\\Python310\\lib\\site-packages\\keras\\src\\engine\\training.py:3103: UserWarning: You are saving your model as an HDF5 file via `model.save()`. This file format is considered legacy. We recommend using instead the native Keras format, e.g. `model.save('my_model.keras')`.\n",
      "  saving_api.save_model(\n"
     ]
    },
    {
     "name": "stdout",
     "output_type": "stream",
     "text": [
      "396223/396223 [==============================] - 1060s 3ms/step - loss: 0.1373 - accuracy: 0.9386\n",
      "Test Accuracy: 93.86%\n"
     ]
    }
   ],
   "source": [
    "from keras.models import Sequential\n",
    "from keras.layers import LSTM, Dense, Dropout\n",
    "from keras.models import load_model\n",
    "from keras.callbacks import EarlyStopping\n",
    "\n",
    "# Build the LSTM+LSTM model\n",
    "model = Sequential()\n",
    "\n",
    "# First LSTM layer\n",
    "model.add(LSTM(units=100, input_shape=(X_train_reshaped.shape[1], X_train_reshaped.shape[2]), return_sequences=True))\n",
    "model.add(Dropout(0.2))\n",
    "\n",
    "# Second LSTM layer\n",
    "model.add(LSTM(units=100, return_sequences=False))  # set return_sequences=False\n",
    "model.add(Dropout(0.2))\n",
    "\n",
    "# Output layer for multi-class classification\n",
    "model.add(Dense(4, activation='softmax'))  # 4 classes, so 4 units and softmax activation\n",
    "\n",
    "# Compile the model\n",
    "model.compile(loss='categorical_crossentropy', optimizer='adam', metrics=['accuracy'])\n",
    "\n",
    "# Define Early Stopping\n",
    "early_stopping = EarlyStopping(monitor='val_loss', patience=3, restore_best_weights=True)\n",
    "\n",
    "# Train the model with early stopping\n",
    "history = model.fit(\n",
    "    X_train_reshaped, y_one_hot_train,  # using one-hot encoded target labels\n",
    "    epochs=100,\n",
    "    batch_size=32,\n",
    "    validation_data=(X_test_reshaped, y_one_hot_test),  # using one-hot encoded target labels\n",
    "    callbacks=[early_stopping],\n",
    "    verbose=1\n",
    ")\n",
    "\n",
    "# Save the model\n",
    "model.save(\"LSTM_LSTM_multi.h5\")\n",
    "\n",
    "# Load the model\n",
    "loaded_model = load_model(\"LSTM_LSTM_multi.h5\")\n",
    "\n",
    "# Evaluate the loaded model\n",
    "loss, accuracy = loaded_model.evaluate(X_test_reshaped, y_one_hot_test)\n",
    "print(f\"Test Accuracy: {accuracy * 100:.2f}%\")\n"
   ]
  },
  {
   "cell_type": "code",
   "execution_count": 15,
   "metadata": {},
   "outputs": [
    {
     "name": "stdout",
     "output_type": "stream",
     "text": [
      "Model: \"sequential_2\"\n",
      "_________________________________________________________________\n",
      " Layer (type)                Output Shape              Param #   \n",
      "=================================================================\n",
      " lstm_4 (LSTM)               (None, 1, 100)            48400     \n",
      "                                                                 \n",
      " dropout_4 (Dropout)         (None, 1, 100)            0         \n",
      "                                                                 \n",
      " lstm_5 (LSTM)               (None, 100)               80400     \n",
      "                                                                 \n",
      " dropout_5 (Dropout)         (None, 100)               0         \n",
      "                                                                 \n",
      " dense_2 (Dense)             (None, 4)                 404       \n",
      "                                                                 \n",
      "=================================================================\n",
      "Total params: 129204 (504.70 KB)\n",
      "Trainable params: 129204 (504.70 KB)\n",
      "Non-trainable params: 0 (0.00 Byte)\n",
      "_________________________________________________________________\n",
      "None\n"
     ]
    }
   ],
   "source": [
    "# Print the summary of the model\n",
    "print(model.summary())\n"
   ]
  },
  {
   "cell_type": "code",
   "execution_count": null,
   "metadata": {},
   "outputs": [],
   "source": []
  }
 ],
 "metadata": {
  "kernelspec": {
   "display_name": "Python 3",
   "language": "python",
   "name": "python3"
  },
  "language_info": {
   "codemirror_mode": {
    "name": "ipython",
    "version": 3
   },
   "file_extension": ".py",
   "mimetype": "text/x-python",
   "name": "python",
   "nbconvert_exporter": "python",
   "pygments_lexer": "ipython3",
   "version": "3.10.8"
  }
 },
 "nbformat": 4,
 "nbformat_minor": 2
}

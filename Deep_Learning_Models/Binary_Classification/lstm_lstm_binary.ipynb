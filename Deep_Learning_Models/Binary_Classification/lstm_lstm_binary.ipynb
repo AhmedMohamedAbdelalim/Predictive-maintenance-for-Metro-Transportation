{
 "cells": [
  {
   "cell_type": "code",
   "execution_count": 1,
   "metadata": {},
   "outputs": [
    {
     "name": "stdout",
     "output_type": "stream",
     "text": [
      "<class 'pandas.core.frame.DataFrame'>\n",
      "Int64Index: 21087035 entries, 0 to 381465\n",
      "Data columns (total 21 columns):\n",
      " #   Column           Dtype  \n",
      "---  ------           -----  \n",
      " 0   TP2              float64\n",
      " 1   TP3              float64\n",
      " 2   H1               float64\n",
      " 3   DV_pressure      float64\n",
      " 4   Reservoirs       float64\n",
      " 5   Oil_temperature  float64\n",
      " 6   Flowmeter        float64\n",
      " 7   Motor_current    float64\n",
      " 8   COMP             int64  \n",
      " 9   DV_eletric       int64  \n",
      " 10  Towers           int64  \n",
      " 11  MPG              int64  \n",
      " 12  LPS              int64  \n",
      " 13  Pressure_switch  int64  \n",
      " 14  Oil_level        int64  \n",
      " 15  Caudal_impulses  int64  \n",
      " 16  gpsLong          float64\n",
      " 17  gpsLat           float64\n",
      " 18  gpsSpeed         int64  \n",
      " 19  gpsQuality       int64  \n",
      " 20  status           int64  \n",
      "dtypes: float64(10), int64(11)\n",
      "memory usage: 3.5 GB\n",
      "None\n",
      "Number of rows4: 21087035\n",
      "Number of columns4: 21\n"
     ]
    }
   ],
   "source": [
    "import dask.dataframe as dd\n",
    "\n",
    "# Read CSV using Dask\n",
    "data = dd.read_csv(\"E:/semester8/Grad2/dataset_after_oversampling/binary_classification.csv\")\n",
    "\n",
    "# Use .compute() to execute operations and get the information\n",
    "data_info = data.compute().info()\n",
    "print(data_info)\n",
    "\n",
    "# Get the number of rows and columns using .compute()\n",
    "num_rows, num_columns = data.compute().shape\n",
    "print(\"Number of rows4:\", num_rows)\n",
    "print(\"Number of columns4:\", num_columns)"
   ]
  },
  {
   "cell_type": "code",
   "execution_count": 2,
   "metadata": {},
   "outputs": [
    {
     "name": "stdout",
     "output_type": "stream",
     "text": [
      "(21087035, 21)\n"
     ]
    }
   ],
   "source": [
    "pandas_data = data.compute()\n",
    "print(pandas_data.shape)"
   ]
  },
  {
   "cell_type": "code",
   "execution_count": 3,
   "metadata": {},
   "outputs": [],
   "source": [
    "import pandas as pd\n",
    "import numpy as np\n",
    "import matplotlib.pyplot as plt\n",
    "\n",
    "from sklearn.metrics import classification_report, confusion_matrix\n",
    "from sklearn.metrics import ConfusionMatrixDisplay, accuracy_score\n",
    "from sklearn.model_selection import train_test_split"
   ]
  },
  {
   "cell_type": "code",
   "execution_count": 4,
   "metadata": {},
   "outputs": [
    {
     "name": "stdout",
     "output_type": "stream",
     "text": [
      "             TP2       TP3        H1  DV_pressure  Reservoirs  \\\n",
      "0      -0.012000  9.758000  9.760000       -0.028    1.576000   \n",
      "1      -0.012000  9.760000  9.760000       -0.028    1.578000   \n",
      "2      -0.010000  9.760000  9.760000       -0.028    1.578000   \n",
      "3      -0.012000  9.756000  9.756000       -0.030    1.576000   \n",
      "4      -0.012000  9.756000  9.756000       -0.030    1.578000   \n",
      "...          ...       ...       ...          ...         ...   \n",
      "381461 -0.009288  8.710410  8.372109       -0.034    1.468000   \n",
      "381462 -0.008132  8.713342  8.406711       -0.034    1.466132   \n",
      "381463 -0.009825  8.705223  8.362795       -0.034    1.467825   \n",
      "381464 -0.009911  8.704800  8.361511       -0.034    1.468000   \n",
      "381465 -0.008126  8.713372  8.406859       -0.034    1.466126   \n",
      "\n",
      "        Oil_temperature  Flowmeter  Motor_current  COMP  DV_eletric  Towers  \\\n",
      "0             63.350000  19.049625         3.9550     1           0       1   \n",
      "1             63.250000  19.049625         4.0275     1           0       1   \n",
      "2             63.325000  19.040281         3.9450     1           0       1   \n",
      "3             63.200000  19.040281         3.9300     1           0       1   \n",
      "4             63.150000  19.049625         3.9950     1           0       1   \n",
      "...                 ...        ...            ...   ...         ...     ...   \n",
      "381461        67.216097  19.255188         0.0075     1           0       1   \n",
      "381462        67.225000  19.255188         0.0075     1           0       1   \n",
      "381463        67.222817  19.257636         0.0075     1           0       1   \n",
      "381464        67.223889  19.255188         0.0075     1           0       1   \n",
      "381465        67.225000  19.255188         0.0075     1           0       1   \n",
      "\n",
      "        MPG  LPS  Pressure_switch  Oil_level  Caudal_impulses  gpsLong  \\\n",
      "0         1    0                0          0                0 -8.65934   \n",
      "1         1    0                0          0                0 -8.65934   \n",
      "2         1    0                0          0                0 -8.65934   \n",
      "3         1    0                0          0                0 -8.65934   \n",
      "4         1    0                0          0                0 -8.65934   \n",
      "...     ...  ...              ...        ...              ...      ...   \n",
      "381461    1    0                0          0                0  0.00000   \n",
      "381462    1    0                0          0                0  0.00000   \n",
      "381463    1    0                0          0                0  0.00000   \n",
      "381464    1    0                0          0                0  0.00000   \n",
      "381465    1    0                0          0                0  0.00000   \n",
      "\n",
      "         gpsLat  gpsSpeed  gpsQuality  \n",
      "0       41.2124         0           1  \n",
      "1       41.2124         0           1  \n",
      "2       41.2124         0           1  \n",
      "3       41.2124         0           1  \n",
      "4       41.2124         0           1  \n",
      "...         ...       ...         ...  \n",
      "381461   0.0000         0           0  \n",
      "381462   0.0000         0           0  \n",
      "381463   0.0000         0           0  \n",
      "381464   0.0000         0           0  \n",
      "381465   0.0000         0           0  \n",
      "\n",
      "[21087035 rows x 20 columns]\n",
      "0         0\n",
      "1         0\n",
      "2         0\n",
      "3         0\n",
      "4         0\n",
      "         ..\n",
      "381461    1\n",
      "381462    1\n",
      "381463    1\n",
      "381464    1\n",
      "381465    1\n",
      "Name: status, Length: 21087035, dtype: int64\n"
     ]
    }
   ],
   "source": [
    "label_column = 'status'\n",
    "X = pandas_data.drop(label_column, axis=1)\n",
    "y = pandas_data[label_column]\n",
    "\n",
    "print(X)\n",
    "print(y)"
   ]
  },
  {
   "cell_type": "code",
   "execution_count": 5,
   "metadata": {},
   "outputs": [],
   "source": [
    "from sklearn.preprocessing import StandardScaler\n",
    "\n",
    "# Normalize the features using StandardScaler\n",
    "scaler = StandardScaler()\n",
    "X_scaled = scaler.fit_transform(X)\n"
   ]
  },
  {
   "cell_type": "code",
   "execution_count": 6,
   "metadata": {},
   "outputs": [],
   "source": [
    "\n",
    "from sklearn.model_selection import train_test_split\n",
    "# Split the data into training and testing sets\n",
    "X_train, X_test, y_train, y_test = train_test_split(X_scaled, y, test_size=0.3, random_state=42)\n"
   ]
  },
  {
   "cell_type": "code",
   "execution_count": 7,
   "metadata": {},
   "outputs": [
    {
     "name": "stdout",
     "output_type": "stream",
     "text": [
      "(14760924, 1, 20)\n",
      "(6326111, 1, 20)\n"
     ]
    }
   ],
   "source": [
    "\n",
    "# LSTM expects input data in a specific format (samples, time steps, features)\n",
    "# Reshape the data for LSTM\n",
    "X_train_reshaped = np.array(X_train).reshape((X_train.shape[0], 1, X_train.shape[1]))\n",
    "X_test_reshaped = np.array(X_test).reshape((X_test.shape[0], 1, X_test.shape[1]))\n",
    "print(X_train_reshaped.shape)\n",
    "print(X_test_reshaped.shape)"
   ]
  },
  {
   "cell_type": "code",
   "execution_count": 8,
   "metadata": {},
   "outputs": [
    {
     "name": "stdout",
     "output_type": "stream",
     "text": [
      "WARNING:tensorflow:From c:\\Users\\ahmed mohamed\\AppData\\Local\\Programs\\Python\\Python310\\lib\\site-packages\\keras\\src\\losses.py:2976: The name tf.losses.sparse_softmax_cross_entropy is deprecated. Please use tf.compat.v1.losses.sparse_softmax_cross_entropy instead.\n",
      "\n",
      "WARNING:tensorflow:From c:\\Users\\ahmed mohamed\\AppData\\Local\\Programs\\Python\\Python310\\lib\\site-packages\\keras\\src\\backend.py:873: The name tf.get_default_graph is deprecated. Please use tf.compat.v1.get_default_graph instead.\n",
      "\n",
      "WARNING:tensorflow:From c:\\Users\\ahmed mohamed\\AppData\\Local\\Programs\\Python\\Python310\\lib\\site-packages\\keras\\src\\optimizers\\__init__.py:309: The name tf.train.Optimizer is deprecated. Please use tf.compat.v1.train.Optimizer instead.\n",
      "\n",
      "Epoch 1/100\n",
      "WARNING:tensorflow:From c:\\Users\\ahmed mohamed\\AppData\\Local\\Programs\\Python\\Python310\\lib\\site-packages\\keras\\src\\utils\\tf_utils.py:492: The name tf.ragged.RaggedTensorValue is deprecated. Please use tf.compat.v1.ragged.RaggedTensorValue instead.\n",
      "\n",
      "WARNING:tensorflow:From c:\\Users\\ahmed mohamed\\AppData\\Local\\Programs\\Python\\Python310\\lib\\site-packages\\keras\\src\\engine\\base_layer_utils.py:384: The name tf.executing_eagerly_outside_functions is deprecated. Please use tf.compat.v1.executing_eagerly_outside_functions instead.\n",
      "\n",
      "461279/461279 [==============================] - 1694s 4ms/step - loss: 0.3234 - accuracy: 0.8555 - val_loss: 0.2665 - val_accuracy: 0.8807\n",
      "Epoch 2/100\n",
      "461279/461279 [==============================] - 1647s 4ms/step - loss: 0.2726 - accuracy: 0.8778 - val_loss: 0.2386 - val_accuracy: 0.8949\n",
      "Epoch 3/100\n",
      "461279/461279 [==============================] - 2515s 5ms/step - loss: 0.2611 - accuracy: 0.8835 - val_loss: 0.2350 - val_accuracy: 0.8960\n",
      "Epoch 4/100\n",
      "461279/461279 [==============================] - 2054s 4ms/step - loss: 0.2536 - accuracy: 0.8869 - val_loss: 0.2367 - val_accuracy: 0.8962\n",
      "Epoch 5/100\n",
      "461279/461279 [==============================] - 1666s 4ms/step - loss: 0.2499 - accuracy: 0.8889 - val_loss: 0.2299 - val_accuracy: 0.9004\n",
      "Epoch 6/100\n",
      "461279/461279 [==============================] - 1654s 4ms/step - loss: 0.2474 - accuracy: 0.8903 - val_loss: 0.2290 - val_accuracy: 0.8987\n",
      "Epoch 7/100\n",
      "461279/461279 [==============================] - 1653s 4ms/step - loss: 0.2452 - accuracy: 0.8915 - val_loss: 0.2226 - val_accuracy: 0.9032\n",
      "Epoch 8/100\n",
      "461279/461279 [==============================] - 1646s 4ms/step - loss: 0.2440 - accuracy: 0.8923 - val_loss: 0.2268 - val_accuracy: 0.9018\n",
      "Epoch 9/100\n",
      "461279/461279 [==============================] - 1647s 4ms/step - loss: 0.2430 - accuracy: 0.8929 - val_loss: 0.2276 - val_accuracy: 0.9021\n",
      "Epoch 10/100\n",
      "461279/461279 [==============================] - 1653s 4ms/step - loss: 0.2418 - accuracy: 0.8935 - val_loss: 0.2208 - val_accuracy: 0.9049\n",
      "Epoch 11/100\n",
      "461279/461279 [==============================] - 1651s 4ms/step - loss: 0.2405 - accuracy: 0.8942 - val_loss: 0.2190 - val_accuracy: 0.9050\n",
      "Epoch 12/100\n",
      "461279/461279 [==============================] - 1648s 4ms/step - loss: 0.2394 - accuracy: 0.8948 - val_loss: 0.2260 - val_accuracy: 0.9017\n",
      "Epoch 13/100\n",
      "461279/461279 [==============================] - 1655s 4ms/step - loss: 0.2382 - accuracy: 0.8954 - val_loss: 0.2190 - val_accuracy: 0.9058\n",
      "Epoch 14/100\n",
      "461279/461279 [==============================] - 1652s 4ms/step - loss: 0.2367 - accuracy: 0.8960 - val_loss: 0.2182 - val_accuracy: 0.9059\n",
      "Epoch 15/100\n",
      "461279/461279 [==============================] - 1648s 4ms/step - loss: 0.2356 - accuracy: 0.8966 - val_loss: 0.2147 - val_accuracy: 0.9087\n",
      "Epoch 16/100\n",
      "461279/461279 [==============================] - 1649s 4ms/step - loss: 0.2346 - accuracy: 0.8969 - val_loss: 0.2166 - val_accuracy: 0.9060\n",
      "Epoch 17/100\n",
      "461279/461279 [==============================] - 1650s 4ms/step - loss: 0.2355 - accuracy: 0.8967 - val_loss: 0.2212 - val_accuracy: 0.9059\n",
      "Epoch 18/100\n",
      "461279/461279 [==============================] - 1651s 4ms/step - loss: 0.2340 - accuracy: 0.8973 - val_loss: 0.2178 - val_accuracy: 0.9062\n"
     ]
    },
    {
     "name": "stderr",
     "output_type": "stream",
     "text": [
      "c:\\Users\\ahmed mohamed\\AppData\\Local\\Programs\\Python\\Python310\\lib\\site-packages\\keras\\src\\engine\\training.py:3103: UserWarning: You are saving your model as an HDF5 file via `model.save()`. This file format is considered legacy. We recommend using instead the native Keras format, e.g. `model.save('my_model.keras')`.\n",
      "  saving_api.save_model(\n"
     ]
    },
    {
     "name": "stdout",
     "output_type": "stream",
     "text": [
      "197691/197691 [==============================] - 284s 1ms/step - loss: 0.2147 - accuracy: 0.9087\n",
      "Test Accuracy: 90.87%\n"
     ]
    }
   ],
   "source": [
    "from keras.models import Sequential\n",
    "from keras.layers import LSTM, Dense, Dropout\n",
    "from keras.models import load_model\n",
    "\n",
    "from keras.layers import LSTM\n",
    "from keras.callbacks import EarlyStopping\n",
    "\n",
    "# Build the LSTM model\n",
    "model = Sequential()\n",
    "\n",
    "\n",
    "# First LSTM layer\n",
    "model.add(LSTM(units=100, input_shape=(X_train_reshaped.shape[1], X_train_reshaped.shape[2]), return_sequences=True))\n",
    "model.add(Dropout(0.2))\n",
    "\n",
    "# Second LSTM layer\n",
    "model.add(LSTM(units=100, return_sequences=False))  # set return_sequences=False\n",
    "model.add(Dropout(0.2))\n",
    "\n",
    "\n",
    "# Output layer\n",
    "model.add(Dense(1, activation='sigmoid'))\n",
    "\n",
    "# Compile the model\n",
    "model.compile(loss='binary_crossentropy', optimizer='adam', metrics=['accuracy'])\n",
    "\n",
    "# Define Early Stopping\n",
    "early_stopping = EarlyStopping(monitor='val_loss', patience=3, restore_best_weights=True)\n",
    "\n",
    "# Train the model\n",
    "history = model.fit(X_train_reshaped,\n",
    "                     y_train, \n",
    "                     epochs=100\n",
    "                     , batch_size=32\n",
    "                     , validation_data=(X_test_reshaped, y_test),\n",
    "                     callbacks=[early_stopping],\n",
    "                       verbose=1)\n",
    "\n",
    "\n",
    "# Save the model\n",
    "model.save(\"LSTM_LSTM_binary.h5\")\n",
    "\n",
    "# Load the model\n",
    "loaded_model = load_model(\"LSTM_LSTM_binary.h5\")\n",
    "\n",
    "# Evaluate the loaded model\n",
    "loss, accuracy = loaded_model.evaluate(X_test_reshaped, y_test)\n",
    "print(f\"Test Accuracy: {accuracy * 100:.2f}%\")"
   ]
  },
  {
   "cell_type": "code",
   "execution_count": 9,
   "metadata": {},
   "outputs": [
    {
     "name": "stdout",
     "output_type": "stream",
     "text": [
      "Model: \"sequential\"\n",
      "_________________________________________________________________\n",
      " Layer (type)                Output Shape              Param #   \n",
      "=================================================================\n",
      " lstm (LSTM)                 (None, 1, 100)            48400     \n",
      "                                                                 \n",
      " dropout (Dropout)           (None, 1, 100)            0         \n",
      "                                                                 \n",
      " lstm_1 (LSTM)               (None, 100)               80400     \n",
      "                                                                 \n",
      " dropout_1 (Dropout)         (None, 100)               0         \n",
      "                                                                 \n",
      " dense (Dense)               (None, 1)                 101       \n",
      "                                                                 \n",
      "=================================================================\n",
      "Total params: 128901 (503.52 KB)\n",
      "Trainable params: 128901 (503.52 KB)\n",
      "Non-trainable params: 0 (0.00 Byte)\n",
      "_________________________________________________________________\n",
      "None\n"
     ]
    }
   ],
   "source": [
    "# Print the summary of the model\n",
    "print(model.summary())"
   ]
  }
 ],
 "metadata": {
  "kernelspec": {
   "display_name": "Python 3",
   "language": "python",
   "name": "python3"
  },
  "language_info": {
   "codemirror_mode": {
    "name": "ipython",
    "version": 3
   },
   "file_extension": ".py",
   "mimetype": "text/x-python",
   "name": "python",
   "nbconvert_exporter": "python",
   "pygments_lexer": "ipython3",
   "version": "3.10.8"
  }
 },
 "nbformat": 4,
 "nbformat_minor": 2
}
